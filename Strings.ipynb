{
 "cells": [
  {
   "cell_type": "markdown",
   "id": "e620f9e2",
   "metadata": {},
   "source": [
    "# Strings"
   ]
  },
  {
   "cell_type": "code",
   "execution_count": 1,
   "id": "b71d71d6",
   "metadata": {},
   "outputs": [],
   "source": [
    "ucp=\"University of central punjab\""
   ]
  },
  {
   "cell_type": "code",
   "execution_count": 2,
   "id": "d5a96312",
   "metadata": {},
   "outputs": [
    {
     "data": {
      "text/plain": [
       "'U'"
      ]
     },
     "execution_count": 2,
     "metadata": {},
     "output_type": "execute_result"
    }
   ],
   "source": [
    "ucp[0]"
   ]
  },
  {
   "cell_type": "code",
   "execution_count": 3,
   "id": "8276886f",
   "metadata": {},
   "outputs": [
    {
     "data": {
      "text/plain": [
       "'b'"
      ]
     },
     "execution_count": 3,
     "metadata": {},
     "output_type": "execute_result"
    }
   ],
   "source": [
    "ucp[-1]"
   ]
  },
  {
   "cell_type": "code",
   "execution_count": 5,
   "id": "269f711d",
   "metadata": {},
   "outputs": [
    {
     "data": {
      "text/plain": [
       "'punjab'"
      ]
     },
     "execution_count": 5,
     "metadata": {},
     "output_type": "execute_result"
    }
   ],
   "source": [
    "ucp[-6:]"
   ]
  },
  {
   "cell_type": "code",
   "execution_count": 6,
   "id": "d39be10d",
   "metadata": {},
   "outputs": [
    {
     "data": {
      "text/plain": [
       "'pun'"
      ]
     },
     "execution_count": 6,
     "metadata": {},
     "output_type": "execute_result"
    }
   ],
   "source": [
    "ucp[-6:-3]"
   ]
  },
  {
   "cell_type": "code",
   "execution_count": 7,
   "id": "888c94d6",
   "metadata": {},
   "outputs": [
    {
     "data": {
      "text/plain": [
       "'University'"
      ]
     },
     "execution_count": 7,
     "metadata": {},
     "output_type": "execute_result"
    }
   ],
   "source": [
    "ucp[0:10]"
   ]
  },
  {
   "cell_type": "code",
   "execution_count": 8,
   "id": "57a371ba",
   "metadata": {},
   "outputs": [
    {
     "name": "stdout",
     "output_type": "stream",
     "text": [
      "University\n"
     ]
    }
   ],
   "source": [
    "print(ucp[0:10])"
   ]
  },
  {
   "cell_type": "code",
   "execution_count": 9,
   "id": "abe29b16",
   "metadata": {},
   "outputs": [],
   "source": [
    "city=\"Lahore\""
   ]
  },
  {
   "cell_type": "code",
   "execution_count": 10,
   "id": "3890ed6d",
   "metadata": {},
   "outputs": [],
   "source": [
    "ucp=ucp+\" \"+city"
   ]
  },
  {
   "cell_type": "code",
   "execution_count": 11,
   "id": "06481fec",
   "metadata": {},
   "outputs": [
    {
     "data": {
      "text/plain": [
       "'University of central punjab Lahore'"
      ]
     },
     "execution_count": 11,
     "metadata": {},
     "output_type": "execute_result"
    }
   ],
   "source": [
    "ucp"
   ]
  },
  {
   "cell_type": "code",
   "execution_count": 12,
   "id": "cf6eef76",
   "metadata": {},
   "outputs": [],
   "source": [
    "pk=\", Pakistan\""
   ]
  },
  {
   "cell_type": "code",
   "execution_count": 13,
   "id": "a7489f3c",
   "metadata": {},
   "outputs": [],
   "source": [
    "ucp+=pk"
   ]
  },
  {
   "cell_type": "code",
   "execution_count": 14,
   "id": "523d070b",
   "metadata": {},
   "outputs": [
    {
     "name": "stdout",
     "output_type": "stream",
     "text": [
      "University of central punjab Lahore, Pakistan\n"
     ]
    }
   ],
   "source": [
    "print(ucp)"
   ]
  },
  {
   "cell_type": "code",
   "execution_count": 15,
   "id": "6834cd9b",
   "metadata": {},
   "outputs": [
    {
     "data": {
      "text/plain": [
       "'university of central punjab lahore, pakistan'"
      ]
     },
     "execution_count": 15,
     "metadata": {},
     "output_type": "execute_result"
    }
   ],
   "source": [
    "ucp.lower()"
   ]
  },
  {
   "cell_type": "code",
   "execution_count": 16,
   "id": "803531e2",
   "metadata": {},
   "outputs": [
    {
     "data": {
      "text/plain": [
       "'UNIVERSITY OF CENTRAL PUNJAB LAHORE, PAKISTAN'"
      ]
     },
     "execution_count": 16,
     "metadata": {},
     "output_type": "execute_result"
    }
   ],
   "source": [
    "ucp.upper()"
   ]
  },
  {
   "cell_type": "code",
   "execution_count": 17,
   "id": "0af427ca",
   "metadata": {},
   "outputs": [
    {
     "data": {
      "text/plain": [
       "'University Of Central Punjab Lahore, Pakistan'"
      ]
     },
     "execution_count": 17,
     "metadata": {},
     "output_type": "execute_result"
    }
   ],
   "source": [
    "ucp.title()"
   ]
  },
  {
   "cell_type": "code",
   "execution_count": 18,
   "id": "1ace0a7b",
   "metadata": {},
   "outputs": [
    {
     "data": {
      "text/plain": [
       "'university'"
      ]
     },
     "execution_count": 18,
     "metadata": {},
     "output_type": "execute_result"
    }
   ],
   "source": [
    "ucp[0:10].lower()"
   ]
  },
  {
   "cell_type": "code",
   "execution_count": 23,
   "id": "70d2860e",
   "metadata": {},
   "outputs": [
    {
     "data": {
      "text/plain": [
       "True"
      ]
     },
     "execution_count": 23,
     "metadata": {},
     "output_type": "execute_result"
    }
   ],
   "source": [
    "'oo' not in ucp"
   ]
  },
  {
   "cell_type": "code",
   "execution_count": 24,
   "id": "cb75df2d",
   "metadata": {},
   "outputs": [
    {
     "name": "stdout",
     "output_type": "stream",
     "text": [
      "not meow\n",
      "not meow\n",
      "not meow\n",
      "not meow\n",
      "not meow\n",
      "not meow\n",
      "not meow\n",
      "not meow\n",
      "not meow\n",
      "not meow\n",
      "not meow\n",
      "meow\n",
      "not meow\n",
      "not meow\n",
      "not meow\n",
      "not meow\n",
      "not meow\n",
      "not meow\n",
      "not meow\n",
      "not meow\n",
      "not meow\n",
      "not meow\n",
      "not meow\n",
      "not meow\n",
      "not meow\n",
      "not meow\n",
      "not meow\n",
      "not meow\n",
      "not meow\n",
      "not meow\n",
      "not meow\n",
      "not meow\n",
      "meow\n",
      "not meow\n",
      "not meow\n",
      "not meow\n",
      "not meow\n",
      "not meow\n",
      "not meow\n",
      "not meow\n",
      "not meow\n",
      "not meow\n",
      "not meow\n",
      "not meow\n",
      "not meow\n"
     ]
    }
   ],
   "source": [
    "for x in ucp:\n",
    "    if x== 'o':\n",
    "        print(\"meow\")\n",
    "    else:\n",
    "        print(\"not meow\")"
   ]
  },
  {
   "cell_type": "code",
   "execution_count": 25,
   "id": "92eefa59",
   "metadata": {},
   "outputs": [
    {
     "data": {
      "text/plain": [
       "45"
      ]
     },
     "execution_count": 25,
     "metadata": {},
     "output_type": "execute_result"
    }
   ],
   "source": [
    "len(ucp)"
   ]
  },
  {
   "cell_type": "code",
   "execution_count": 26,
   "id": "cccc91a2",
   "metadata": {},
   "outputs": [],
   "source": [
    "ct=0\n",
    "for w in ucp:\n",
    "    ct+=1"
   ]
  },
  {
   "cell_type": "code",
   "execution_count": 27,
   "id": "eb628f4e",
   "metadata": {},
   "outputs": [
    {
     "data": {
      "text/plain": [
       "45"
      ]
     },
     "execution_count": 27,
     "metadata": {},
     "output_type": "execute_result"
    }
   ],
   "source": [
    "ct"
   ]
  },
  {
   "cell_type": "code",
   "execution_count": 28,
   "id": "64750b89",
   "metadata": {},
   "outputs": [],
   "source": [
    "def length(a):\n",
    "    ct=0\n",
    "    for x in a:\n",
    "        ct+=1\n",
    "    return ct"
   ]
  },
  {
   "cell_type": "code",
   "execution_count": 29,
   "id": "b0cae0e8",
   "metadata": {},
   "outputs": [
    {
     "data": {
      "text/plain": [
       "45"
      ]
     },
     "execution_count": 29,
     "metadata": {},
     "output_type": "execute_result"
    }
   ],
   "source": [
    "length(ucp)"
   ]
  },
  {
   "cell_type": "code",
   "execution_count": 30,
   "id": "146e7460",
   "metadata": {},
   "outputs": [
    {
     "data": {
      "text/plain": [
       "['University', 'of', 'central', 'punjab', 'Lahore,', 'Pakistan']"
      ]
     },
     "execution_count": 30,
     "metadata": {},
     "output_type": "execute_result"
    }
   ],
   "source": [
    "ucp.split()"
   ]
  },
  {
   "cell_type": "code",
   "execution_count": 31,
   "id": "282d6039",
   "metadata": {},
   "outputs": [],
   "source": [
    "ucphistory=\"On 15 August 1996, The Punjab Group of Colleges petitioned Government of Punjab for the establishment of a university in the province. \\Punjab Institute of Computer Science (PICS), Punjab College of Commerce (PCC), Punjab Law College (PLC) and Punjab College of Information Technology (PCIT) formed the core of the university at the time of establishment.Following a restructuring in 2004, the PCBA and PICS operate under the Faculty of Management Studies and Faculty of Information Technology of the University of Central Punjab respectively. The Punjab Colleges of Commerce and the Punjab Law College respectively function under the Faculties of Commerce and of Law of the University of Central Punjab. The Faculty of Engineering (FOE) was introduced in 2002.\""
   ]
  },
  {
   "cell_type": "code",
   "execution_count": 32,
   "id": "ccea76f5",
   "metadata": {},
   "outputs": [
    {
     "data": {
      "text/plain": [
       "'On 15 August 1996, The Punjab Group of Colleges petitioned Government of Punjab for the establishment of a university in the province. \\\\Punjab Institute of Computer Science (PICS), Punjab College of Commerce (PCC), Punjab Law College (PLC) and Punjab College of Information Technology (PCIT) formed the core of the university at the time of establishment.Following a restructuring in 2004, the PCBA and PICS operate under the Faculty of Management Studies and Faculty of Information Technology of the University of Central Punjab respectively. The Punjab Colleges of Commerce and the Punjab Law College respectively function under the Faculties of Commerce and of Law of the University of Central Punjab. The Faculty of Engineering (FOE) was introduced in 2002.'"
      ]
     },
     "execution_count": 32,
     "metadata": {},
     "output_type": "execute_result"
    }
   ],
   "source": [
    "ucphistory"
   ]
  },
  {
   "cell_type": "markdown",
   "id": "15840be3",
   "metadata": {},
   "source": [
    "# Task1:Count Total words without using len()"
   ]
  },
  {
   "cell_type": "code",
   "execution_count": 65,
   "id": "75c38233",
   "metadata": {},
   "outputs": [
    {
     "name": "stdout",
     "output_type": "stream",
     "text": [
      "116\n"
     ]
    }
   ],
   "source": [
    "for i in ucphistory:\n",
    "    if(i == \" \"):\n",
    "        ct = ct + 1\n",
    "        \n",
    "print(ct)\n",
    "    \n"
   ]
  },
  {
   "cell_type": "markdown",
   "id": "fd4d8086",
   "metadata": {},
   "source": [
    "# Task2:Remove 'of' from string"
   ]
  },
  {
   "cell_type": "code",
   "execution_count": 85,
   "id": "2fa3c13d",
   "metadata": {},
   "outputs": [
    {
     "ename": "TypeError",
     "evalue": "descriptor 'remove' for 'list' objects doesn't apply to a 'str' object",
     "output_type": "error",
     "traceback": [
      "\u001b[1;31m---------------------------------------------------------------------------\u001b[0m",
      "\u001b[1;31mTypeError\u001b[0m                                 Traceback (most recent call last)",
      "\u001b[1;32m<ipython-input-85-bf6e0aa9bbc5>\u001b[0m in \u001b[0;36m<module>\u001b[1;34m\u001b[0m\n\u001b[0;32m      4\u001b[0m \u001b[1;32mfor\u001b[0m \u001b[0mi\u001b[0m \u001b[1;32min\u001b[0m \u001b[0msplit_str\u001b[0m\u001b[1;33m:\u001b[0m\u001b[1;33m\u001b[0m\u001b[1;33m\u001b[0m\u001b[0m\n\u001b[0;32m      5\u001b[0m     \u001b[1;32mif\u001b[0m \u001b[0mi\u001b[0m \u001b[1;32min\u001b[0m \u001b[0msplit_str\u001b[0m\u001b[1;33m:\u001b[0m\u001b[1;33m\u001b[0m\u001b[1;33m\u001b[0m\u001b[0m\n\u001b[1;32m----> 6\u001b[1;33m         \u001b[0mlist\u001b[0m\u001b[1;33m.\u001b[0m\u001b[0mremove\u001b[0m\u001b[1;33m(\u001b[0m\u001b[0mword\u001b[0m\u001b[1;33m,\u001b[0m\u001b[1;34m\"\"\u001b[0m\u001b[1;33m)\u001b[0m\u001b[1;33m\u001b[0m\u001b[1;33m\u001b[0m\u001b[0m\n\u001b[0m",
      "\u001b[1;31mTypeError\u001b[0m: descriptor 'remove' for 'list' objects doesn't apply to a 'str' object"
     ]
    }
   ],
   "source": []
  },
  {
   "cell_type": "code",
   "execution_count": null,
   "id": "7eb1023d",
   "metadata": {},
   "outputs": [],
   "source": []
  }
 ],
 "metadata": {
  "kernelspec": {
   "display_name": "Python 3",
   "language": "python",
   "name": "python3"
  },
  "language_info": {
   "codemirror_mode": {
    "name": "ipython",
    "version": 3
   },
   "file_extension": ".py",
   "mimetype": "text/x-python",
   "name": "python",
   "nbconvert_exporter": "python",
   "pygments_lexer": "ipython3",
   "version": "3.8.8"
  }
 },
 "nbformat": 4,
 "nbformat_minor": 5
}
